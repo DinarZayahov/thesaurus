{
 "cells": [
  {
   "cell_type": "code",
   "execution_count": 1,
   "outputs": [
    {
     "name": "stdout",
     "output_type": "stream",
     "text": [
      "Collecting sentence-transformers\r\n",
      "  Downloading sentence-transformers-2.2.0.tar.gz (79 kB)\r\n",
      "\u001B[2K     \u001B[90m━━━━━━━━━━━━━━━━━━━━━━━━━━━━━━━━━━━━━━━\u001B[0m \u001B[32m79.7/79.7 kB\u001B[0m \u001B[31m877.1 kB/s\u001B[0m eta \u001B[36m0:00:00\u001B[0ma \u001B[36m0:00:01\u001B[0m\r\n",
      "\u001B[?25h  Preparing metadata (setup.py) ... \u001B[?25ldone\r\n",
      "\u001B[?25hRequirement already satisfied: transformers<5.0.0,>=4.6.0 in /home/karam/Documents/workspace/lib/python3.9/site-packages (from sentence-transformers) (4.18.0)\r\n",
      "Requirement already satisfied: tqdm in /home/karam/Documents/workspace/lib/python3.9/site-packages (from sentence-transformers) (4.63.1)\r\n",
      "Requirement already satisfied: torch>=1.6.0 in /home/karam/Documents/workspace/lib/python3.9/site-packages (from sentence-transformers) (1.11.0)\r\n",
      "Collecting torchvision\r\n",
      "  Downloading torchvision-0.12.0-cp39-cp39-manylinux1_x86_64.whl (21.0 MB)\r\n",
      "\u001B[2K     \u001B[90m━━━━━━━━━━━━━━━━━━━━━━━━━━━━━━━━━━━━━━━━\u001B[0m \u001B[32m21.0/21.0 MB\u001B[0m \u001B[31m2.3 MB/s\u001B[0m eta \u001B[36m0:00:00\u001B[0m00:01\u001B[0m00:01\u001B[0m\r\n",
      "\u001B[?25hRequirement already satisfied: numpy in /home/karam/Documents/workspace/lib/python3.9/site-packages (from sentence-transformers) (1.21.4)\r\n",
      "Requirement already satisfied: scikit-learn in /home/karam/Documents/workspace/lib/python3.9/site-packages (from sentence-transformers) (1.0.1)\r\n",
      "Requirement already satisfied: scipy in /home/karam/Documents/workspace/lib/python3.9/site-packages (from sentence-transformers) (1.7.2)\r\n",
      "Requirement already satisfied: nltk in /home/karam/Documents/workspace/lib/python3.9/site-packages (from sentence-transformers) (3.7)\r\n",
      "Collecting sentencepiece\r\n",
      "  Using cached sentencepiece-0.1.96-cp39-cp39-manylinux_2_17_x86_64.manylinux2014_x86_64.whl (1.2 MB)\r\n",
      "Requirement already satisfied: huggingface-hub in /home/karam/Documents/workspace/lib/python3.9/site-packages (from sentence-transformers) (0.5.1)\r\n",
      "Requirement already satisfied: typing-extensions in /home/karam/Documents/workspace/lib/python3.9/site-packages (from torch>=1.6.0->sentence-transformers) (3.10.0.2)\r\n",
      "Requirement already satisfied: filelock in /home/karam/Documents/workspace/lib/python3.9/site-packages (from transformers<5.0.0,>=4.6.0->sentence-transformers) (3.6.0)\r\n",
      "Requirement already satisfied: packaging>=20.0 in /home/karam/Documents/workspace/lib/python3.9/site-packages (from transformers<5.0.0,>=4.6.0->sentence-transformers) (21.2)\r\n",
      "Requirement already satisfied: regex!=2019.12.17 in /home/karam/Documents/workspace/lib/python3.9/site-packages (from transformers<5.0.0,>=4.6.0->sentence-transformers) (2022.3.15)\r\n",
      "Requirement already satisfied: pyyaml>=5.1 in /home/karam/Documents/workspace/lib/python3.9/site-packages (from transformers<5.0.0,>=4.6.0->sentence-transformers) (6.0)\r\n",
      "Requirement already satisfied: requests in /home/karam/Documents/workspace/lib/python3.9/site-packages (from transformers<5.0.0,>=4.6.0->sentence-transformers) (2.26.0)\r\n",
      "Requirement already satisfied: sacremoses in /home/karam/Documents/workspace/lib/python3.9/site-packages (from transformers<5.0.0,>=4.6.0->sentence-transformers) (0.0.53)\r\n",
      "Requirement already satisfied: tokenizers!=0.11.3,<0.13,>=0.11.1 in /home/karam/Documents/workspace/lib/python3.9/site-packages (from transformers<5.0.0,>=4.6.0->sentence-transformers) (0.12.1)\r\n",
      "Requirement already satisfied: click in /home/karam/Documents/workspace/lib/python3.9/site-packages (from nltk->sentence-transformers) (8.0.4)\r\n",
      "Requirement already satisfied: joblib in /home/karam/Documents/workspace/lib/python3.9/site-packages (from nltk->sentence-transformers) (1.1.0)\r\n",
      "Requirement already satisfied: threadpoolctl>=2.0.0 in /home/karam/Documents/workspace/lib/python3.9/site-packages (from scikit-learn->sentence-transformers) (3.0.0)\r\n",
      "Requirement already satisfied: pillow!=8.3.*,>=5.3.0 in /home/karam/Documents/workspace/lib/python3.9/site-packages (from torchvision->sentence-transformers) (8.4.0)\r\n",
      "Requirement already satisfied: pyparsing<3,>=2.0.2 in /home/karam/Documents/workspace/lib/python3.9/site-packages (from packaging>=20.0->transformers<5.0.0,>=4.6.0->sentence-transformers) (2.4.7)\r\n",
      "Requirement already satisfied: charset-normalizer~=2.0.0 in /home/karam/Documents/workspace/lib/python3.9/site-packages (from requests->transformers<5.0.0,>=4.6.0->sentence-transformers) (2.0.7)\r\n",
      "Requirement already satisfied: certifi>=2017.4.17 in /home/karam/Documents/workspace/lib/python3.9/site-packages (from requests->transformers<5.0.0,>=4.6.0->sentence-transformers) (2021.10.8)\r\n",
      "Requirement already satisfied: urllib3<1.27,>=1.21.1 in /home/karam/Documents/workspace/lib/python3.9/site-packages (from requests->transformers<5.0.0,>=4.6.0->sentence-transformers) (1.26.7)\r\n",
      "Requirement already satisfied: idna<4,>=2.5 in /home/karam/Documents/workspace/lib/python3.9/site-packages (from requests->transformers<5.0.0,>=4.6.0->sentence-transformers) (3.3)\r\n",
      "Requirement already satisfied: six in /home/karam/Documents/workspace/lib/python3.9/site-packages (from sacremoses->transformers<5.0.0,>=4.6.0->sentence-transformers) (1.16.0)\r\n",
      "Building wheels for collected packages: sentence-transformers\r\n",
      "  Building wheel for sentence-transformers (setup.py) ... \u001B[?25ldone\r\n",
      "\u001B[?25h  Created wheel for sentence-transformers: filename=sentence_transformers-2.2.0-py3-none-any.whl size=120747 sha256=a71a0a09044351896febeb4f0ddc0a5313deb2142b5b22d840ff968e166a54b9\r\n",
      "  Stored in directory: /home/karam/.cache/pip/wheels/2b/11/3b/32a18fb9f2253b25d3d1a06f0a84e2d516e7efa19c8c71a283\r\n",
      "Successfully built sentence-transformers\r\n",
      "Installing collected packages: sentencepiece, torchvision, sentence-transformers\r\n",
      "Successfully installed sentence-transformers-2.2.0 sentencepiece-0.1.96 torchvision-0.12.0\r\n"
     ]
    }
   ],
   "source": [
    "!pip install -U sentence-transformers"
   ],
   "metadata": {
    "collapsed": false,
    "pycharm": {
     "name": "#%%\n"
    }
   }
  },
  {
   "cell_type": "code",
   "execution_count": 1,
   "outputs": [],
   "source": [
    "from sklearn.metrics.pairwise import cosine_similarity\n",
    "from sentence_transformers import SentenceTransformer"
   ],
   "metadata": {
    "collapsed": false,
    "pycharm": {
     "name": "#%%\n"
    }
   }
  },
  {
   "cell_type": "code",
   "execution_count": 2,
   "outputs": [],
   "source": [
    "model = SentenceTransformer('sentence-transformers/paraphrase-multilingual-mpnet-base-v2')"
   ],
   "metadata": {
    "collapsed": false,
    "pycharm": {
     "name": "#%%\n"
    }
   }
  },
  {
   "cell_type": "code",
   "execution_count": 18,
   "outputs": [],
   "source": [
    "embeds = []\n",
    "words = ['Hello', 'Salut' , 'Hallo', 'Привет', 'مرحبا' ,'Good-Bye']\n",
    "for word in words:\n",
    "    embeds.append((word,model.encode(word)))"
   ],
   "metadata": {
    "collapsed": false,
    "pycharm": {
     "name": "#%%\n"
    }
   }
  },
  {
   "cell_type": "code",
   "execution_count": 19,
   "outputs": [
    {
     "name": "stdout",
     "output_type": "stream",
     "text": [
      "Cosine similarity between Hello and Salut is: [[0.9126266]]\n",
      "Cosine similarity between Hello and Hallo is: [[0.98365456]]\n",
      "Cosine similarity between Hello and Привет is: [[0.95640665]]\n",
      "Cosine similarity between Hello and مرحبا is: [[0.9632821]]\n",
      "Cosine similarity between Hello and Good-Bye is: [[0.53189427]]\n",
      "Cosine similarity between Salut and Hallo is: [[0.9563143]]\n",
      "Cosine similarity between Salut and Привет is: [[0.98106605]]\n",
      "Cosine similarity between Salut and مرحبا is: [[0.9548296]]\n",
      "Cosine similarity between Salut and Good-Bye is: [[0.63939273]]\n",
      "Cosine similarity between Hallo and Привет is: [[0.9847363]]\n",
      "Cosine similarity between Hallo and مرحبا is: [[0.9869994]]\n",
      "Cosine similarity between Hallo and Good-Bye is: [[0.5875634]]\n",
      "Cosine similarity between Привет and مرحبا is: [[0.9822558]]\n",
      "Cosine similarity between Привет and Good-Bye is: [[0.620708]]\n",
      "Cosine similarity between مرحبا and Good-Bye is: [[0.5560074]]\n"
     ]
    }
   ],
   "source": [
    "for i in range(len(embeds)):\n",
    "    for j in range(i+1,len(embeds)):\n",
    "        word, embed = embeds[i]\n",
    "        word_2, embed_2 = embeds[j]\n",
    "        print(f'Cosine similarity between {word} and {word_2} is: {cosine_similarity([embed], [embed_2])}')"
   ],
   "metadata": {
    "collapsed": false,
    "pycharm": {
     "name": "#%%\n"
    }
   }
  },
  {
   "cell_type": "code",
   "execution_count": 13,
   "outputs": [
    {
     "data": {
      "text/plain": "5"
     },
     "execution_count": 13,
     "metadata": {},
     "output_type": "execute_result"
    }
   ],
   "source": [],
   "metadata": {
    "collapsed": false,
    "pycharm": {
     "name": "#%%\n"
    }
   }
  }
 ],
 "metadata": {
  "kernelspec": {
   "display_name": "Python 3",
   "language": "python",
   "name": "python3"
  },
  "language_info": {
   "codemirror_mode": {
    "name": "ipython",
    "version": 2
   },
   "file_extension": ".py",
   "mimetype": "text/x-python",
   "name": "python",
   "nbconvert_exporter": "python",
   "pygments_lexer": "ipython2",
   "version": "2.7.6"
  }
 },
 "nbformat": 4,
 "nbformat_minor": 0
}