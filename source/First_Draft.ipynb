{
  "nbformat": 4,
  "nbformat_minor": 0,
  "metadata": {
    "colab": {
      "name": "First Draft.ipynb",
      "provenance": [],
      "collapsed_sections": []
    },
    "kernelspec": {
      "name": "python3",
      "display_name": "Python 3"
    },
    "language_info": {
      "name": "python"
    }
  },
  "cells": [
    {
      "cell_type": "code",
      "metadata": {
        "id": "fydf3lpTBngq"
      },
      "source": [
        "from IPython.display import clear_output"
      ],
      "execution_count": null,
      "outputs": []
    },
    {
      "cell_type": "markdown",
      "metadata": {
        "id": "fDEfFIt0Bimt"
      },
      "source": [
        "# Set up Streamlit\n",
        "\n",
        "\n",
        "\n"
      ]
    },
    {
      "cell_type": "code",
      "metadata": {
        "id": "P5XzzzrdBhtc"
      },
      "source": [
        "!pip install streamlit\n",
        "clear_output()"
      ],
      "execution_count": null,
      "outputs": []
    },
    {
      "cell_type": "code",
      "metadata": {
        "id": "Lb732m9pB-Cu"
      },
      "source": [
        "!pip install pyngrok==4.1.1\n",
        "clear_output()"
      ],
      "execution_count": null,
      "outputs": []
    },
    {
      "cell_type": "markdown",
      "metadata": {
        "id": "FVdNLKNcUo8V"
      },
      "source": [
        ""
      ]
    },
    {
      "cell_type": "code",
      "metadata": {
        "id": "agN_xoAFCA8y"
      },
      "source": [
        "!ngrok authtoken 1zBEv43VFGiGrMwx8Vcikfr3XFN_2R1GK3nU4cf9KMETQjmqW\n",
        "clear_output()"
      ],
      "execution_count": null,
      "outputs": []
    },
    {
      "cell_type": "code",
      "metadata": {
        "id": "NGJHerTiCDfV"
      },
      "source": [
        "from pyngrok import ngrok"
      ],
      "execution_count": null,
      "outputs": []
    },
    {
      "cell_type": "code",
      "metadata": {
        "id": "9DBQkFn_CFrm"
      },
      "source": [
        "!streamlit run app1.py&>/dev/null&"
      ],
      "execution_count": null,
      "outputs": []
    },
    {
      "cell_type": "code",
      "metadata": {
        "id": "arzfz9s6CGMq"
      },
      "source": [
        "!pgrep streamlit"
      ],
      "execution_count": null,
      "outputs": []
    },
    {
      "cell_type": "code",
      "metadata": {
        "id": "CWrD-POFCHW-"
      },
      "source": [
        "public_url = ngrok.connect(port='8501')\n",
        "clear_output()"
      ],
      "execution_count": null,
      "outputs": []
    },
    {
      "cell_type": "code",
      "metadata": {
        "colab": {
          "base_uri": "https://localhost:8080/",
          "height": 35
        },
        "id": "N1OtBsrvCL36",
        "outputId": "5810b3b9-876f-462e-e4a1-b38be26f989f"
      },
      "source": [
        "public_url"
      ],
      "execution_count": null,
      "outputs": [
        {
          "output_type": "execute_result",
          "data": {
            "application/vnd.google.colaboratory.intrinsic+json": {
              "type": "string"
            },
            "text/plain": [
              "'http://c902-104-196-18-206.ngrok.io'"
            ]
          },
          "metadata": {},
          "execution_count": 40
        }
      ]
    },
    {
      "cell_type": "code",
      "metadata": {
        "id": "uMqBmaTnCNXW"
      },
      "source": [
        "!kill 669\n",
        "clear_output()"
      ],
      "execution_count": null,
      "outputs": []
    },
    {
      "cell_type": "code",
      "metadata": {
        "id": "UGKKHeWnCPfY"
      },
      "source": [
        "ngrok.kill()\n",
        "clear_output()"
      ],
      "execution_count": null,
      "outputs": []
    },
    {
      "cell_type": "markdown",
      "metadata": {
        "id": "aNJNKO2R8QKa"
      },
      "source": [
        "# Requirements for Service"
      ]
    },
    {
      "cell_type": "markdown",
      "metadata": {
        "id": "LqtnS5jv8Zjm"
      },
      "source": [
        "extended_stopwords.txt"
      ]
    },
    {
      "cell_type": "markdown",
      "metadata": {
        "id": "lBt3q6MA9uby"
      },
      "source": [
        "background.txt"
      ]
    },
    {
      "cell_type": "markdown",
      "metadata": {
        "id": "SLBvBhLl9HBP"
      },
      "source": [
        "app.py"
      ]
    },
    {
      "cell_type": "code",
      "metadata": {
        "id": "_xD8Uwv67esD"
      },
      "source": [
        "!python -m spacy download en_core_web_lg"
      ],
      "execution_count": null,
      "outputs": []
    },
    {
      "cell_type": "markdown",
      "metadata": {
        "id": "uj2Gir9-9VaG"
      },
      "source": [
        "# Code Dependencies"
      ]
    },
    {
      "cell_type": "code",
      "metadata": {
        "id": "VO18imI78pTW"
      },
      "source": [
        "import spacy\n",
        "from gensim.utils import tokenize\n",
        "from sklearn.manifold import TSNE\n",
        "import numpy as np\n",
        "import matplotlib.pyplot as plt\n",
        "import time"
      ],
      "execution_count": null,
      "outputs": []
    },
    {
      "cell_type": "markdown",
      "metadata": {
        "id": "GugXjrGFNAye"
      },
      "source": [
        "# Code"
      ]
    },
    {
      "cell_type": "code",
      "metadata": {
        "colab": {
          "base_uri": "https://localhost:8080/"
        },
        "id": "k6EgdX-hsLEb",
        "outputId": "c65c39c9-83f9-4ffb-bd7b-50dfd32e1c6a"
      },
      "source": [
        "!python -m spacy info"
      ],
      "execution_count": null,
      "outputs": [
        {
          "output_type": "stream",
          "name": "stdout",
          "text": [
            "\u001b[1m\n",
            "============================== Info about spaCy ==============================\u001b[0m\n",
            "\n",
            "spaCy version    2.2.4                         \n",
            "Location         /usr/local/lib/python3.7/dist-packages/spacy\n",
            "Platform         Linux-5.4.104+-x86_64-with-Ubuntu-18.04-bionic\n",
            "Python version   3.7.12                        \n",
            "Models           en                            \n",
            "\n"
          ]
        }
      ]
    },
    {
      "cell_type": "code",
      "metadata": {
        "id": "pPAUvwrsdhyP"
      },
      "source": [
        "text_file = open('another_text.txt', 'r')"
      ],
      "execution_count": null,
      "outputs": []
    },
    {
      "cell_type": "code",
      "metadata": {
        "id": "0vgNNeAXicAW"
      },
      "source": [
        "text = ''.join(text_file.read().splitlines())"
      ],
      "execution_count": null,
      "outputs": []
    },
    {
      "cell_type": "code",
      "metadata": {
        "id": "CHDxH7jRjZxr",
        "colab": {
          "base_uri": "https://localhost:8080/",
          "height": 137
        },
        "outputId": "a67a8647-fe79-4f1a-c848-1d4814787e63"
      },
      "source": [
        "text"
      ],
      "execution_count": null,
      "outputs": [
        {
          "output_type": "execute_result",
          "data": {
            "application/vnd.google.colaboratory.intrinsic+json": {
              "type": "string"
            },
            "text/plain": [
              "'Making a management decision often requires having a top view on a problem to see it as a whole. Complex problems may include multiple components with no simple and obvious visual form; thus, visualization can become a difficult task itself. For example, topographic objects can be easily represented as dots and lines on a map, physical experiments can be visualized with a histogram, computer networks can be plotted as a graph. On the other hand, collection of images, texts of audio files cannot be easily mapped on a single image. For a single object it is very important to have a universal low\\x02dimensional representation of essential features; multimedia data does not have such default representation.Another important thing that one needs to consider while visualizing big datasets, is that frequently not all information for decision making is contained within the dataset. For example, “far” and “close” relations will depend on the context you put the data in: whether this is a map of a city or world map. Another example is putting data on a height map. Even if two items have very close coordinates in a dataset, one can be located in a basement while the other is on the 100th floor of a skyscraper.'"
            ]
          },
          "metadata": {},
          "execution_count": 4
        }
      ]
    },
    {
      "cell_type": "code",
      "metadata": {
        "id": "piAAn-SP3Awm"
      },
      "source": [
        "nlp = spacy.load('en', disable=['parser', 'ner'])\n",
        "doc = nlp(text)\n",
        "text = \" \".join([token.lemma_ for token in doc])"
      ],
      "execution_count": null,
      "outputs": []
    },
    {
      "cell_type": "code",
      "metadata": {
        "colab": {
          "base_uri": "https://localhost:8080/",
          "height": 137
        },
        "id": "b1TR34nv3gtb",
        "outputId": "d09750c8-a02f-47a0-b2b3-5501beacd230"
      },
      "source": [
        "text"
      ],
      "execution_count": null,
      "outputs": [
        {
          "output_type": "execute_result",
          "data": {
            "application/vnd.google.colaboratory.intrinsic+json": {
              "type": "string"
            },
            "text/plain": [
              "'make a management decision often require have a top view on a problem to see -PRON- as a whole . complex problem may include multiple component with no simple and obvious visual form ; thus , visualization can become a difficult task -PRON- . for example , topographic object can be easily represent as dot and line on a map , physical experiment can be visualize with a histogram , computer network can be plot as a graph . on the other hand , collection of image , text of audio file can not be easily map on a single image . for a single object -PRON- be very important to have a universal low\\x02dimensional representation of essential feature ; multimedia data do not have such default representation . another important thing that one need to consider while visualize big dataset , be that frequently not all information for decision making be contain within the dataset . for example , \" far \" and \" close \" relation will depend on the context -PRON- put the datum in : whether this be a map of a city or world map . another example be put datum on a height map . even if two item have very close coordinate in a dataset , one can be locate in a basement while the other be on the 100th floor of a skyscraper .'"
            ]
          },
          "metadata": {},
          "execution_count": 6
        }
      ]
    },
    {
      "cell_type": "code",
      "metadata": {
        "id": "r0ws06PvmX6a"
      },
      "source": [
        "tokens = list(tokenize(text, to_lower=True))"
      ],
      "execution_count": null,
      "outputs": []
    },
    {
      "cell_type": "code",
      "metadata": {
        "colab": {
          "base_uri": "https://localhost:8080/"
        },
        "id": "eR1FbLDvp1T6",
        "outputId": "7d8e9570-5afd-41a3-8a1f-894934127bc3"
      },
      "source": [
        "len(tokens)"
      ],
      "execution_count": null,
      "outputs": [
        {
          "output_type": "execute_result",
          "data": {
            "text/plain": [
              "208"
            ]
          },
          "metadata": {},
          "execution_count": 8
        }
      ]
    },
    {
      "cell_type": "code",
      "metadata": {
        "colab": {
          "base_uri": "https://localhost:8080/"
        },
        "id": "LlYue9l5j_VP",
        "outputId": "170ac914-bce7-462c-abe2-fb5514835d2b"
      },
      "source": [
        "tokens"
      ],
      "execution_count": null,
      "outputs": [
        {
          "output_type": "execute_result",
          "data": {
            "text/plain": [
              "['make',\n",
              " 'a',\n",
              " 'management',\n",
              " 'decision',\n",
              " 'often',\n",
              " 'require',\n",
              " 'have',\n",
              " 'a',\n",
              " 'top',\n",
              " 'view',\n",
              " 'on',\n",
              " 'a',\n",
              " 'problem',\n",
              " 'to',\n",
              " 'see',\n",
              " 'pron',\n",
              " 'as',\n",
              " 'a',\n",
              " 'whole',\n",
              " 'complex',\n",
              " 'problem',\n",
              " 'may',\n",
              " 'include',\n",
              " 'multiple',\n",
              " 'component',\n",
              " 'with',\n",
              " 'no',\n",
              " 'simple',\n",
              " 'and',\n",
              " 'obvious',\n",
              " 'visual',\n",
              " 'form',\n",
              " 'thus',\n",
              " 'visualization',\n",
              " 'can',\n",
              " 'become',\n",
              " 'a',\n",
              " 'difficult',\n",
              " 'task',\n",
              " 'pron',\n",
              " 'for',\n",
              " 'example',\n",
              " 'topographic',\n",
              " 'object',\n",
              " 'can',\n",
              " 'be',\n",
              " 'easily',\n",
              " 'represent',\n",
              " 'as',\n",
              " 'dot',\n",
              " 'and',\n",
              " 'line',\n",
              " 'on',\n",
              " 'a',\n",
              " 'map',\n",
              " 'physical',\n",
              " 'experiment',\n",
              " 'can',\n",
              " 'be',\n",
              " 'visualize',\n",
              " 'with',\n",
              " 'a',\n",
              " 'histogram',\n",
              " 'computer',\n",
              " 'network',\n",
              " 'can',\n",
              " 'be',\n",
              " 'plot',\n",
              " 'as',\n",
              " 'a',\n",
              " 'graph',\n",
              " 'on',\n",
              " 'the',\n",
              " 'other',\n",
              " 'hand',\n",
              " 'collection',\n",
              " 'of',\n",
              " 'image',\n",
              " 'text',\n",
              " 'of',\n",
              " 'audio',\n",
              " 'file',\n",
              " 'can',\n",
              " 'not',\n",
              " 'be',\n",
              " 'easily',\n",
              " 'map',\n",
              " 'on',\n",
              " 'a',\n",
              " 'single',\n",
              " 'image',\n",
              " 'for',\n",
              " 'a',\n",
              " 'single',\n",
              " 'object',\n",
              " 'pron',\n",
              " 'be',\n",
              " 'very',\n",
              " 'important',\n",
              " 'to',\n",
              " 'have',\n",
              " 'a',\n",
              " 'universal',\n",
              " 'low',\n",
              " 'dimensional',\n",
              " 'representation',\n",
              " 'of',\n",
              " 'essential',\n",
              " 'feature',\n",
              " 'multimedia',\n",
              " 'data',\n",
              " 'do',\n",
              " 'not',\n",
              " 'have',\n",
              " 'such',\n",
              " 'default',\n",
              " 'representation',\n",
              " 'another',\n",
              " 'important',\n",
              " 'thing',\n",
              " 'that',\n",
              " 'one',\n",
              " 'need',\n",
              " 'to',\n",
              " 'consider',\n",
              " 'while',\n",
              " 'visualize',\n",
              " 'big',\n",
              " 'dataset',\n",
              " 'be',\n",
              " 'that',\n",
              " 'frequently',\n",
              " 'not',\n",
              " 'all',\n",
              " 'information',\n",
              " 'for',\n",
              " 'decision',\n",
              " 'making',\n",
              " 'be',\n",
              " 'contain',\n",
              " 'within',\n",
              " 'the',\n",
              " 'dataset',\n",
              " 'for',\n",
              " 'example',\n",
              " 'far',\n",
              " 'and',\n",
              " 'close',\n",
              " 'relation',\n",
              " 'will',\n",
              " 'depend',\n",
              " 'on',\n",
              " 'the',\n",
              " 'context',\n",
              " 'pron',\n",
              " 'put',\n",
              " 'the',\n",
              " 'datum',\n",
              " 'in',\n",
              " 'whether',\n",
              " 'this',\n",
              " 'be',\n",
              " 'a',\n",
              " 'map',\n",
              " 'of',\n",
              " 'a',\n",
              " 'city',\n",
              " 'or',\n",
              " 'world',\n",
              " 'map',\n",
              " 'another',\n",
              " 'example',\n",
              " 'be',\n",
              " 'put',\n",
              " 'datum',\n",
              " 'on',\n",
              " 'a',\n",
              " 'height',\n",
              " 'map',\n",
              " 'even',\n",
              " 'if',\n",
              " 'two',\n",
              " 'item',\n",
              " 'have',\n",
              " 'very',\n",
              " 'close',\n",
              " 'coordinate',\n",
              " 'in',\n",
              " 'a',\n",
              " 'dataset',\n",
              " 'one',\n",
              " 'can',\n",
              " 'be',\n",
              " 'locate',\n",
              " 'in',\n",
              " 'a',\n",
              " 'basement',\n",
              " 'while',\n",
              " 'the',\n",
              " 'other',\n",
              " 'be',\n",
              " 'on',\n",
              " 'the',\n",
              " 'th',\n",
              " 'floor',\n",
              " 'of',\n",
              " 'a',\n",
              " 'skyscraper']"
            ]
          },
          "metadata": {},
          "execution_count": 9
        }
      ]
    },
    {
      "cell_type": "code",
      "metadata": {
        "id": "A12UIoPHolpe"
      },
      "source": [
        "# Open file with stopwords\n",
        "stopwords_file = open('/content/extended_stopwords.txt', 'r')\n",
        "\n",
        "# Initialize empty list\n",
        "stopwords = []\n",
        "\n",
        "# Add stopwords to list\n",
        "for line in stopwords_file:\n",
        "  stopwords.append(line[:-1])"
      ],
      "execution_count": null,
      "outputs": []
    },
    {
      "cell_type": "code",
      "metadata": {
        "id": "V_GjLyFkpZhU"
      },
      "source": [
        "filtered_tokens = []"
      ],
      "execution_count": null,
      "outputs": []
    },
    {
      "cell_type": "code",
      "metadata": {
        "id": "5izH9a__pev-"
      },
      "source": [
        "for token in tokens:\n",
        "  if token not in stopwords:\n",
        "    filtered_tokens.append(token)"
      ],
      "execution_count": null,
      "outputs": []
    },
    {
      "cell_type": "code",
      "metadata": {
        "colab": {
          "base_uri": "https://localhost:8080/"
        },
        "id": "jwg8u3jnpyY7",
        "outputId": "bedbb3b7-f42d-46ed-f8d9-b028f7cc3fac"
      },
      "source": [
        "len(filtered_tokens)"
      ],
      "execution_count": null,
      "outputs": [
        {
          "output_type": "execute_result",
          "data": {
            "text/plain": [
              "89"
            ]
          },
          "metadata": {},
          "execution_count": 14
        }
      ]
    },
    {
      "cell_type": "code",
      "metadata": {
        "colab": {
          "base_uri": "https://localhost:8080/"
        },
        "id": "zV2sMVPAlY8c",
        "outputId": "9d9c2c41-3705-4280-c870-9d5928f269db"
      },
      "source": [
        "filtered_tokens"
      ],
      "execution_count": null,
      "outputs": [
        {
          "output_type": "execute_result",
          "data": {
            "text/plain": [
              "['management',\n",
              " 'decision',\n",
              " 'require',\n",
              " 'top',\n",
              " 'view',\n",
              " 'problem',\n",
              " 'pron',\n",
              " 'complex',\n",
              " 'problem',\n",
              " 'include',\n",
              " 'multiple',\n",
              " 'component',\n",
              " 'simple',\n",
              " 'obvious',\n",
              " 'visual',\n",
              " 'form',\n",
              " 'visualization',\n",
              " 'difficult',\n",
              " 'task',\n",
              " 'pron',\n",
              " 'example',\n",
              " 'topographic',\n",
              " 'object',\n",
              " 'easily',\n",
              " 'represent',\n",
              " 'dot',\n",
              " 'map',\n",
              " 'physical',\n",
              " 'experiment',\n",
              " 'visualize',\n",
              " 'histogram',\n",
              " 'computer',\n",
              " 'network',\n",
              " 'plot',\n",
              " 'graph',\n",
              " 'hand',\n",
              " 'collection',\n",
              " 'image',\n",
              " 'text',\n",
              " 'audio',\n",
              " 'file',\n",
              " 'easily',\n",
              " 'map',\n",
              " 'single',\n",
              " 'image',\n",
              " 'single',\n",
              " 'object',\n",
              " 'pron',\n",
              " 'universal',\n",
              " 'low',\n",
              " 'dimensional',\n",
              " 'representation',\n",
              " 'essential',\n",
              " 'feature',\n",
              " 'multimedia',\n",
              " 'data',\n",
              " 'default',\n",
              " 'representation',\n",
              " 'thing',\n",
              " 'consider',\n",
              " 'visualize',\n",
              " 'big',\n",
              " 'dataset',\n",
              " 'frequently',\n",
              " 'decision',\n",
              " 'making',\n",
              " 'dataset',\n",
              " 'example',\n",
              " 'close',\n",
              " 'relation',\n",
              " 'depend',\n",
              " 'context',\n",
              " 'pron',\n",
              " 'datum',\n",
              " 'map',\n",
              " 'city',\n",
              " 'map',\n",
              " 'example',\n",
              " 'datum',\n",
              " 'height',\n",
              " 'map',\n",
              " 'item',\n",
              " 'close',\n",
              " 'coordinate',\n",
              " 'dataset',\n",
              " 'locate',\n",
              " 'basement',\n",
              " 'floor',\n",
              " 'skyscraper']"
            ]
          },
          "metadata": {},
          "execution_count": 15
        }
      ]
    },
    {
      "cell_type": "code",
      "metadata": {
        "id": "KkgPT2HN-8d6"
      },
      "source": [
        "filtered_tokens = set(filtered_tokens)"
      ],
      "execution_count": null,
      "outputs": []
    },
    {
      "cell_type": "code",
      "metadata": {
        "colab": {
          "base_uri": "https://localhost:8080/"
        },
        "id": "UUWp0xYm_KP_",
        "outputId": "b0e23fcd-6c32-4042-a015-249eb8253ca5"
      },
      "source": [
        "len(filtered_tokens)"
      ],
      "execution_count": null,
      "outputs": [
        {
          "output_type": "execute_result",
          "data": {
            "text/plain": [
              "68"
            ]
          },
          "metadata": {},
          "execution_count": 17
        }
      ]
    },
    {
      "cell_type": "code",
      "metadata": {
        "colab": {
          "base_uri": "https://localhost:8080/"
        },
        "id": "FgDd94ocggfu",
        "outputId": "f46b4916-31c4-42ae-f96c-04e5f231ed8e"
      },
      "source": [
        "filtered_tokens"
      ],
      "execution_count": null,
      "outputs": [
        {
          "output_type": "execute_result",
          "data": {
            "text/plain": [
              "{'audio',\n",
              " 'basement',\n",
              " 'big',\n",
              " 'city',\n",
              " 'close',\n",
              " 'collection',\n",
              " 'complex',\n",
              " 'component',\n",
              " 'computer',\n",
              " 'consider',\n",
              " 'context',\n",
              " 'coordinate',\n",
              " 'data',\n",
              " 'dataset',\n",
              " 'datum',\n",
              " 'decision',\n",
              " 'default',\n",
              " 'depend',\n",
              " 'difficult',\n",
              " 'dimensional',\n",
              " 'dot',\n",
              " 'easily',\n",
              " 'essential',\n",
              " 'example',\n",
              " 'experiment',\n",
              " 'feature',\n",
              " 'file',\n",
              " 'floor',\n",
              " 'form',\n",
              " 'frequently',\n",
              " 'graph',\n",
              " 'hand',\n",
              " 'height',\n",
              " 'histogram',\n",
              " 'image',\n",
              " 'include',\n",
              " 'item',\n",
              " 'locate',\n",
              " 'low',\n",
              " 'making',\n",
              " 'management',\n",
              " 'map',\n",
              " 'multimedia',\n",
              " 'multiple',\n",
              " 'network',\n",
              " 'object',\n",
              " 'obvious',\n",
              " 'physical',\n",
              " 'plot',\n",
              " 'problem',\n",
              " 'pron',\n",
              " 'relation',\n",
              " 'represent',\n",
              " 'representation',\n",
              " 'require',\n",
              " 'simple',\n",
              " 'single',\n",
              " 'skyscraper',\n",
              " 'task',\n",
              " 'text',\n",
              " 'thing',\n",
              " 'top',\n",
              " 'topographic',\n",
              " 'universal',\n",
              " 'view',\n",
              " 'visual',\n",
              " 'visualization',\n",
              " 'visualize'}"
            ]
          },
          "metadata": {},
          "execution_count": 18
        }
      ]
    },
    {
      "cell_type": "code",
      "metadata": {
        "id": "yELC-lyV97Hs"
      },
      "source": [
        "text = \" \".join(filtered_tokens)"
      ],
      "execution_count": null,
      "outputs": []
    },
    {
      "cell_type": "code",
      "metadata": {
        "colab": {
          "base_uri": "https://localhost:8080/",
          "height": 86
        },
        "id": "pbyC-QGBmwu6",
        "outputId": "41b6ba50-e547-4f84-fd87-36350769cf34"
      },
      "source": [
        "text"
      ],
      "execution_count": null,
      "outputs": [
        {
          "output_type": "execute_result",
          "data": {
            "application/vnd.google.colaboratory.intrinsic+json": {
              "type": "string"
            },
            "text/plain": [
              "'map file context close floor physical hand city include frequently dot visualize universal top text graph decision topographic network audio datum difficult pron low image skyscraper feature management dataset obvious depend relation dimensional multimedia collection experiment represent visual default big easily object data computer multiple component task example item locate consider basement require complex height single making histogram essential visualization coordinate plot representation form view simple problem thing'"
            ]
          },
          "metadata": {},
          "execution_count": 20
        }
      ]
    },
    {
      "cell_type": "code",
      "metadata": {
        "id": "62JmUyJi7LYq"
      },
      "source": [
        "embeddings = []"
      ],
      "execution_count": null,
      "outputs": []
    },
    {
      "cell_type": "code",
      "metadata": {
        "id": "dhp5AIucgM2Q"
      },
      "source": [
        "!python -m spacy download en"
      ],
      "execution_count": null,
      "outputs": []
    },
    {
      "cell_type": "code",
      "metadata": {
        "id": "t1T2_t3j6zH4"
      },
      "source": [
        "nlp2 = spacy.load('en_core_web_sm')\n",
        "\n",
        "for token in filtered_tokens:\n",
        "  embeddings.append(nlp2(token).vector)"
      ],
      "execution_count": null,
      "outputs": []
    },
    {
      "cell_type": "code",
      "metadata": {
        "colab": {
          "base_uri": "https://localhost:8080/"
        },
        "id": "ung8L_4P8fpR",
        "outputId": "9f77163a-6731-4b3e-c826-f1a994aef755"
      },
      "source": [
        "len(embeddings)"
      ],
      "execution_count": null,
      "outputs": [
        {
          "output_type": "execute_result",
          "data": {
            "text/plain": [
              "68"
            ]
          },
          "metadata": {},
          "execution_count": 24
        }
      ]
    },
    {
      "cell_type": "code",
      "metadata": {
        "colab": {
          "base_uri": "https://localhost:8080/"
        },
        "id": "Tfmb3mUL9Nxt",
        "outputId": "688cbda5-9b7c-4568-a04f-fa29024750d9"
      },
      "source": [
        "embeddings[0].shape"
      ],
      "execution_count": null,
      "outputs": [
        {
          "output_type": "execute_result",
          "data": {
            "text/plain": [
              "(96,)"
            ]
          },
          "metadata": {},
          "execution_count": 25
        }
      ]
    },
    {
      "cell_type": "code",
      "metadata": {
        "id": "7CZrfAlh8i47"
      },
      "source": [
        "tsne = TSNE(perplexity=40, n_iter=2000, random_state=0)\n",
        "np.set_printoptions(suppress=True)\n",
        "Y = tsne.fit_transform(embeddings)"
      ],
      "execution_count": null,
      "outputs": []
    },
    {
      "cell_type": "code",
      "metadata": {
        "colab": {
          "base_uri": "https://localhost:8080/",
          "height": 265
        },
        "id": "ZtSvXr5Y-F8R",
        "outputId": "87011fa0-05c4-4acc-e867-f3bbc7957a18"
      },
      "source": [
        "plt.scatter(Y[:, 0], Y[:, 1])\n",
        "for label, x, y in zip(filtered_tokens, Y[:, 0], Y[:, 1]):\n",
        "    plt.annotate(label, xy=(x, y), xytext=(0, 0), textcoords='offset points')\n",
        "plt.show()"
      ],
      "execution_count": null,
      "outputs": [
        {
          "output_type": "display_data",
          "data": {
            "image/png": "[encoded data removed]",
            "text/plain": [
              "<Figure size 432x288 with 1 Axes>"
            ]
          },
          "metadata": {
            "needs_background": "light"
          }
        }
      ]
    },
    {
      "cell_type": "markdown",
      "metadata": {
        "id": "byFNcjjNNGzK"
      },
      "source": [
        "## Code for app. Don't run"
      ]
    },
    {
      "cell_type": "code",
      "metadata": {
        "id": "IcjE2IeuEhNP"
      },
      "source": [
        "import streamlit as st\n",
        "st.set_option('deprecation.showPyplotGlobalUse', False)\n",
        "st.title(\"Welcome to Thesaurus Visualization\")\n",
        "st.write(\" ------ \")\n",
        "\n",
        "import time\n",
        "\n",
        "def func(text):\n",
        "  text = ''.join(str(x) for x in text.read().splitlines())\n",
        "\n",
        "  import spacy\n",
        "  nlp = spacy.load('en', disable=['parser', 'ner'])\n",
        "  doc = nlp(text)\n",
        "  text = \" \".join([token.lemma_ for token in doc])\n",
        "\n",
        "  from gensim.utils import tokenize\n",
        "  tokens = list(tokenize(text, to_lower=True))\n",
        "\n",
        "  # Open file with stopwords\n",
        "  stopwords_file = open('/content/extended_stopwords.txt', 'r')\n",
        "  # Initialize empty list\n",
        "  stopwords = []\n",
        "  # Add stopwords to list\n",
        "  for line in stopwords_file:\n",
        "    stopwords.append(line[:-1])\n",
        "\n",
        "  filtered_tokens = []\n",
        "  for token in tokens:\n",
        "    if token not in stopwords:\n",
        "      filtered_tokens.append(token)\n",
        "\n",
        "  filtered_tokens = set(filtered_tokens)\n",
        "\n",
        "  text = \" \".join(filtered_tokens)\n",
        "  embeddings = []\n",
        "\n",
        "  nlp2 = spacy.load('en_core_web_lg')\n",
        "\n",
        "  for token in filtered_tokens:\n",
        "    embeddings.append(nlp2(token).vector)\n",
        "\n",
        "  return filtered_tokens, embeddings\n",
        "  \n",
        "\n",
        "\n",
        "def main():\n",
        "  text = st.sidebar.file_uploader(\"Please Select to Upload a file with text\", type=['txt'])\n",
        "  background = open('background.txt', 'r')\n",
        "\n",
        "  ft1, e1 = func(background)\n",
        "\n",
        "  ft2, e2 = None, None\n",
        "  if text is not None:\n",
        "\n",
        "    ft2, e2 = func(text)\n",
        "\n",
        "    from sklearn.manifold import TSNE\n",
        "    import numpy as np\n",
        "\n",
        "    # start = time.time()\n",
        "    tsne = TSNE(n_components=2, random_state=0)\n",
        "    np.set_printoptions(suppress=True)\n",
        "    Y1 = tsne.fit_transform(e1)\n",
        "    Y2 = tsne.fit_transform(e2)\n",
        "    # end = time.time()\n",
        "    # st.write(\"t-SNE time: {}\".format(end-start))\n",
        "\n",
        "    import matplotlib.pyplot as plt\n",
        "\n",
        "    plt.scatter(Y1[:, 0], Y1[:, 1], c = 'orange')\n",
        "\n",
        "    plt.scatter(Y2[:, 0], Y2[:, 1], c = 'blue')\n",
        "    for label, x, y in zip(ft2, Y2[:, 0], Y2[:, 1]):\n",
        "        plt.annotate(label, xy=(x, y), xytext=(0, 0), textcoords='offset points')\n",
        "\n",
        "    plt.show()\n",
        "    st.pyplot()\n",
        "\n",
        "main()"
      ],
      "execution_count": null,
      "outputs": []
    },
    {
      "cell_type": "markdown",
      "metadata": {
        "id": "P_Or4g4AVBpV"
      },
      "source": [
        "# Code for Library. Don't run"
      ]
    },
    {
      "cell_type": "code",
      "metadata": {
        "id": "SAr-Y0skcx6O"
      },
      "source": [
        "import time"
      ],
      "execution_count": null,
      "outputs": []
    },
    {
      "cell_type": "code",
      "metadata": {
        "id": "82DcYNKEVATI"
      },
      "source": [
        "class Thesaurus1:\n",
        "\n",
        "\n",
        "  def __init__(self, text):\n",
        "    self.text = text\n",
        "\n",
        "\n",
        "  def func(self, text):\n",
        "\n",
        "    text = ''.join(str(x) for x in text.read().splitlines())\n",
        "\n",
        "    import spacy\n",
        "    nlp = spacy.load('en', disable=['parser', 'ner'])\n",
        "    doc = nlp(text)\n",
        "    text = \" \".join([token.lemma_ for token in doc])\n",
        "\n",
        "    from gensim.utils import tokenize\n",
        "    tokens = list(tokenize(text, to_lower=True))\n",
        "\n",
        "    # Open file with stopwords\n",
        "    stopwords_file = open('/content/extended_stopwords.txt', 'r')\n",
        "    # Initialize empty list\n",
        "    stopwords = []\n",
        "    # Add stopwords to list\n",
        "    for line in stopwords_file:\n",
        "      stopwords.append(line[:-1])\n",
        "\n",
        "    filtered_tokens = []\n",
        "    for token in tokens:\n",
        "      if token not in stopwords:\n",
        "        filtered_tokens.append(token)\n",
        "\n",
        "\n",
        "    filtered_tokens = set(filtered_tokens)\n",
        "\n",
        "    text = \" \".join(filtered_tokens)\n",
        "    embeddings = []\n",
        "\n",
        "    s = time.time()\n",
        "\n",
        "    nlp2 = spacy.load('en_core_web_lg')\n",
        "\n",
        "    e = time.time()\n",
        "    print(e-s)\n",
        "\n",
        "    for token in filtered_tokens:\n",
        "      embeddings.append(nlp2(token).vector)\n",
        "\n",
        "    return filtered_tokens, embeddings\n",
        "  \n",
        "\n",
        "  def visualize(self):\n",
        "    background = open('background.txt', 'r')\n",
        "\n",
        "    s = time.time()\n",
        "    ft1, e1 = self.func(background)\n",
        "    e = time.time()\n",
        "    print('back', e-s)\n",
        "\n",
        "    ft2, e2 = None, None\n",
        "    if self.text is not None:\n",
        "\n",
        "      ft2, e2 = self.func(self.text)\n",
        "\n",
        "      from sklearn.manifold import TSNE\n",
        "      import numpy as np\n",
        "\n",
        "      tsne = TSNE(n_components=2, random_state=0)\n",
        "      np.set_printoptions(suppress=True)\n",
        "      Y1 = tsne.fit_transform(e1)\n",
        "      Y2 = tsne.fit_transform(e2)\n",
        "\n",
        "      import matplotlib.pyplot as plt\n",
        "\n",
        "      plt.scatter(Y1[:, 0], Y1[:, 1], c = 'orange')\n",
        "\n",
        "      plt.scatter(Y2[:, 0], Y2[:, 1], c = 'blue')\n",
        "      for label, x, y in zip(ft2, Y2[:, 0], Y2[:, 1]):\n",
        "          plt.annotate(label, xy=(x, y), xytext=(0, 0), textcoords='offset points')\n",
        "\n",
        "      plt.show()"
      ],
      "execution_count": null,
      "outputs": []
    },
    {
      "cell_type": "code",
      "metadata": {
        "id": "HIAdM78Pahxw"
      },
      "source": [
        "f = open('another_text.txt', 'r')\n",
        "instance = Thesaurus1(f)"
      ],
      "execution_count": null,
      "outputs": []
    },
    {
      "cell_type": "code",
      "metadata": {
        "colab": {
          "base_uri": "https://localhost:8080/",
          "height": 315
        },
        "id": "tHag6-DqajNy",
        "outputId": "bb09638e-8c63-425a-dca6-2e0c9b140cf4"
      },
      "source": [
        "instance.visualize()"
      ],
      "execution_count": null,
      "outputs": [
        {
          "output_type": "stream",
          "name": "stdout",
          "text": [
            "12.9191153049469\n",
            "back 14.838080644607544\n",
            "15.626773118972778\n"
          ]
        },
        {
          "output_type": "display_data",
          "data": {
            "image/png": "[encoded data removed]",
            "text/plain": [
              "<Figure size 432x288 with 1 Axes>"
            ]
          },
          "metadata": {
            "needs_background": "light"
          }
        }
      ]
    },
    {
      "cell_type": "markdown",
      "metadata": {
        "id": "v8IjpryaZ3BV"
      },
      "source": [
        "## Try installing library"
      ]
    },
    {
      "cell_type": "code",
      "metadata": {
        "id": "qm1wKh76e9H7"
      },
      "source": [
        "!pip install thesaurus-draft==0.1.3"
      ],
      "execution_count": null,
      "outputs": []
    },
    {
      "cell_type": "code",
      "metadata": {
        "id": "B2gnNRQJiA_1"
      },
      "source": [
        "from thesaurus_draft import Thesaurus"
      ],
      "execution_count": null,
      "outputs": []
    },
    {
      "cell_type": "code",
      "metadata": {
        "id": "QGCBqQN1iELH"
      },
      "source": [
        "f = open('another_text.txt', 'r')\n",
        "instance = Thesaurus(f)"
      ],
      "execution_count": null,
      "outputs": []
    },
    {
      "cell_type": "code",
      "metadata": {
        "colab": {
          "base_uri": "https://localhost:8080/",
          "height": 265
        },
        "id": "l7Q3aEDTilLb",
        "outputId": "6001f475-b075-41e2-ccb0-6c91721b4cd9"
      },
      "source": [
        "instance.visualize()"
      ],
      "execution_count": null,
      "outputs": [
        {
          "output_type": "display_data",
          "data": {
            "image/png": "[encoded data removed]",
            "text/plain": [
              "<Figure size 432x288 with 1 Axes>"
            ]
          },
          "metadata": {
            "needs_background": "light"
          }
        }
      ]
    },
    {
      "cell_type": "markdown",
      "metadata": {
        "id": "Jo8-Xo2hZ95i"
      },
      "source": [
        "## Automatically generate requirements.txt"
      ]
    },
    {
      "cell_type": "code",
      "metadata": {
        "id": "42S585AcgBt8"
      },
      "source": [
        "!pip install pigar"
      ],
      "execution_count": null,
      "outputs": []
    },
    {
      "cell_type": "code",
      "metadata": {
        "colab": {
          "base_uri": "https://localhost:8080/"
        },
        "id": "PbQ9_LlXgE2S",
        "outputId": "209e1e01-7b85-4448-b260-ee3b6b1ca030"
      },
      "source": [
        "!pigar"
      ],
      "execution_count": null,
      "outputs": [
        {
          "output_type": "stream",
          "name": "stdout",
          "text": [
            "\u001b[32mWriting requirements to \"/content/requirements.txt\"\u001b[39m\n"
          ]
        }
      ]
    },
    {
      "cell_type": "code",
      "metadata": {
        "id": "lEAn4kmie7he"
      },
      "source": [
        "f = open('words_alpha.txt', 'r')\n",
        "out = open('10k.txt', 'w')"
      ],
      "execution_count": null,
      "outputs": []
    },
    {
      "cell_type": "code",
      "metadata": {
        "id": "D78eO8Z6fNqU"
      },
      "source": [
        "count = 0\n",
        "while True:\n",
        "  count += 1\n",
        "  line = f.readline()\n",
        "\n",
        "  if not line or count > 10000:\n",
        "    break\n",
        "\n",
        "  out.write(line)"
      ],
      "execution_count": null,
      "outputs": []
    },
    {
      "cell_type": "code",
      "metadata": {
        "colab": {
          "base_uri": "https://localhost:8080/"
        },
        "id": "px4JJs-nhhYg",
        "outputId": "176f2bd2-aac0-4085-f531-ab5bc35b024c"
      },
      "source": [
        "!pip install tsnecuda"
      ],
      "execution_count": null,
      "outputs": [
        {
          "output_type": "stream",
          "name": "stdout",
          "text": [
            "Collecting tsnecuda\n",
            "  Downloading tsnecuda-3.0.0-py3-none-any.whl (53.2 MB)\n",
            "\u001b[K     |████████████████████████████████| 53.2 MB 224 kB/s \n",
            "\u001b[?25h  Downloading tsnecuda-0.1.1-py3-none-any.whl (16.1 MB)\n",
            "\u001b[K     |████████████████████████████████| 16.1 MB 27.9 MB/s \n",
            "\u001b[?25hRequirement already satisfied: numpy>=1.14.1 in /usr/local/lib/python3.7/dist-packages (from tsnecuda) (1.19.5)\n",
            "Installing collected packages: tsnecuda\n",
            "Successfully installed tsnecuda-0.1.1\n"
          ]
        }
      ]
    },
    {
      "cell_type": "code",
      "metadata": {
        "colab": {
          "base_uri": "https://localhost:8080/",
          "height": 328
        },
        "id": "iTe4ZIgrhZgG",
        "outputId": "7deab759-b541-46b0-efb8-ca954c541929"
      },
      "source": [
        "from tsnecuda import TSNE\n",
        "X_embedded = TSNE(n_components=2, perplexity=15, learning_rate=10).fit_transform([1, 2, 3])"
      ],
      "execution_count": null,
      "outputs": [
        {
          "output_type": "error",
          "ename": "OSError",
          "evalue": "ignored",
          "traceback": [
            "\u001b[0;31m---------------------------------------------------------------------------\u001b[0m",
            "\u001b[0;31mOSError\u001b[0m                                   Traceback (most recent call last)",
            "\u001b[0;32m<ipython-input-4-a760c24cb2cb>\u001b[0m in \u001b[0;36m<module>\u001b[0;34m()\u001b[0m\n\u001b[1;32m      1\u001b[0m \u001b[0;32mfrom\u001b[0m \u001b[0mtsnecuda\u001b[0m \u001b[0;32mimport\u001b[0m \u001b[0mTSNE\u001b[0m\u001b[0;34m\u001b[0m\u001b[0;34m\u001b[0m\u001b[0m\n\u001b[0;32m----> 2\u001b[0;31m \u001b[0mX_embedded\u001b[0m \u001b[0;34m=\u001b[0m \u001b[0mTSNE\u001b[0m\u001b[0;34m(\u001b[0m\u001b[0mn_components\u001b[0m\u001b[0;34m=\u001b[0m\u001b[0;36m2\u001b[0m\u001b[0;34m,\u001b[0m \u001b[0mperplexity\u001b[0m\u001b[0;34m=\u001b[0m\u001b[0;36m15\u001b[0m\u001b[0;34m,\u001b[0m \u001b[0mlearning_rate\u001b[0m\u001b[0;34m=\u001b[0m\u001b[0;36m10\u001b[0m\u001b[0;34m)\u001b[0m\u001b[0;34m.\u001b[0m\u001b[0mfit_transform\u001b[0m\u001b[0;34m(\u001b[0m\u001b[0;34m[\u001b[0m\u001b[0;36m1\u001b[0m\u001b[0;34m,\u001b[0m \u001b[0;36m2\u001b[0m\u001b[0;34m,\u001b[0m \u001b[0;36m3\u001b[0m\u001b[0;34m]\u001b[0m\u001b[0;34m)\u001b[0m\u001b[0;34m\u001b[0m\u001b[0;34m\u001b[0m\u001b[0m\n\u001b[0m",
            "\u001b[0;32m/usr/local/lib/python3.7/dist-packages/tsnecuda/TSNE.py\u001b[0m in \u001b[0;36m__init__\u001b[0;34m(self, n_components, perplexity, early_exaggeration, learning_rate, num_neighbors, force_magnify_iters, pre_momentum, post_momentum, theta, epssq, n_iter, n_iter_without_progress, min_grad_norm, perplexity_epsilon, metric, init, return_style, num_snapshots, verbose, random_seed, use_interactive, viz_timeout, viz_server, dump_points, dump_file, dump_interval, print_interval, device)\u001b[0m\n\u001b[1;32m    108\u001b[0m         \u001b[0;31m# self._faiss_lib = N.ctypeslib.load_library('libfaiss', self._path) # Load the ctypes library\u001b[0m\u001b[0;34m\u001b[0m\u001b[0;34m\u001b[0m\u001b[0;34m\u001b[0m\u001b[0m\n\u001b[1;32m    109\u001b[0m         \u001b[0;31m# self._gpufaiss_lib = N.ctypeslib.load_library('libgpufaiss', self._path) # Load the ctypes library\u001b[0m\u001b[0;34m\u001b[0m\u001b[0;34m\u001b[0m\u001b[0;34m\u001b[0m\u001b[0m\n\u001b[0;32m--> 110\u001b[0;31m         \u001b[0mself\u001b[0m\u001b[0;34m.\u001b[0m\u001b[0m_lib\u001b[0m \u001b[0;34m=\u001b[0m \u001b[0mN\u001b[0m\u001b[0;34m.\u001b[0m\u001b[0mctypeslib\u001b[0m\u001b[0;34m.\u001b[0m\u001b[0mload_library\u001b[0m\u001b[0;34m(\u001b[0m\u001b[0;34m'libtsnecuda'\u001b[0m\u001b[0;34m,\u001b[0m \u001b[0mself\u001b[0m\u001b[0;34m.\u001b[0m\u001b[0m_path\u001b[0m\u001b[0;34m)\u001b[0m \u001b[0;31m# Load the ctypes library\u001b[0m\u001b[0;34m\u001b[0m\u001b[0;34m\u001b[0m\u001b[0m\n\u001b[0m\u001b[1;32m    111\u001b[0m \u001b[0;34m\u001b[0m\u001b[0m\n\u001b[1;32m    112\u001b[0m         \u001b[0;31m# Hook the BH T-SNE function\u001b[0m\u001b[0;34m\u001b[0m\u001b[0;34m\u001b[0m\u001b[0;34m\u001b[0m\u001b[0m\n",
            "\u001b[0;32m/usr/local/lib/python3.7/dist-packages/numpy/ctypeslib.py\u001b[0m in \u001b[0;36mload_library\u001b[0;34m(libname, loader_path)\u001b[0m\n\u001b[1;32m    148\u001b[0m             \u001b[0;32mif\u001b[0m \u001b[0mos\u001b[0m\u001b[0;34m.\u001b[0m\u001b[0mpath\u001b[0m\u001b[0;34m.\u001b[0m\u001b[0mexists\u001b[0m\u001b[0;34m(\u001b[0m\u001b[0mlibpath\u001b[0m\u001b[0;34m)\u001b[0m\u001b[0;34m:\u001b[0m\u001b[0;34m\u001b[0m\u001b[0;34m\u001b[0m\u001b[0m\n\u001b[1;32m    149\u001b[0m                 \u001b[0;32mtry\u001b[0m\u001b[0;34m:\u001b[0m\u001b[0;34m\u001b[0m\u001b[0;34m\u001b[0m\u001b[0m\n\u001b[0;32m--> 150\u001b[0;31m                     \u001b[0;32mreturn\u001b[0m \u001b[0mctypes\u001b[0m\u001b[0;34m.\u001b[0m\u001b[0mcdll\u001b[0m\u001b[0;34m[\u001b[0m\u001b[0mlibpath\u001b[0m\u001b[0;34m]\u001b[0m\u001b[0;34m\u001b[0m\u001b[0;34m\u001b[0m\u001b[0m\n\u001b[0m\u001b[1;32m    151\u001b[0m                 \u001b[0;32mexcept\u001b[0m \u001b[0mOSError\u001b[0m\u001b[0;34m:\u001b[0m\u001b[0;34m\u001b[0m\u001b[0;34m\u001b[0m\u001b[0m\n\u001b[1;32m    152\u001b[0m                     \u001b[0;31m## defective lib file\u001b[0m\u001b[0;34m\u001b[0m\u001b[0;34m\u001b[0m\u001b[0;34m\u001b[0m\u001b[0m\n",
            "\u001b[0;32m/usr/lib/python3.7/ctypes/__init__.py\u001b[0m in \u001b[0;36m__getitem__\u001b[0;34m(self, name)\u001b[0m\n\u001b[1;32m    437\u001b[0m \u001b[0;34m\u001b[0m\u001b[0m\n\u001b[1;32m    438\u001b[0m     \u001b[0;32mdef\u001b[0m \u001b[0m__getitem__\u001b[0m\u001b[0;34m(\u001b[0m\u001b[0mself\u001b[0m\u001b[0;34m,\u001b[0m \u001b[0mname\u001b[0m\u001b[0;34m)\u001b[0m\u001b[0;34m:\u001b[0m\u001b[0;34m\u001b[0m\u001b[0;34m\u001b[0m\u001b[0m\n\u001b[0;32m--> 439\u001b[0;31m         \u001b[0;32mreturn\u001b[0m \u001b[0mgetattr\u001b[0m\u001b[0;34m(\u001b[0m\u001b[0mself\u001b[0m\u001b[0;34m,\u001b[0m \u001b[0mname\u001b[0m\u001b[0;34m)\u001b[0m\u001b[0;34m\u001b[0m\u001b[0;34m\u001b[0m\u001b[0m\n\u001b[0m\u001b[1;32m    440\u001b[0m \u001b[0;34m\u001b[0m\u001b[0m\n\u001b[1;32m    441\u001b[0m     \u001b[0;32mdef\u001b[0m \u001b[0mLoadLibrary\u001b[0m\u001b[0;34m(\u001b[0m\u001b[0mself\u001b[0m\u001b[0;34m,\u001b[0m \u001b[0mname\u001b[0m\u001b[0;34m)\u001b[0m\u001b[0;34m:\u001b[0m\u001b[0;34m\u001b[0m\u001b[0;34m\u001b[0m\u001b[0m\n",
            "\u001b[0;32m/usr/lib/python3.7/ctypes/__init__.py\u001b[0m in \u001b[0;36m__getattr__\u001b[0;34m(self, name)\u001b[0m\n\u001b[1;32m    432\u001b[0m         \u001b[0;32mif\u001b[0m \u001b[0mname\u001b[0m\u001b[0;34m[\u001b[0m\u001b[0;36m0\u001b[0m\u001b[0;34m]\u001b[0m \u001b[0;34m==\u001b[0m \u001b[0;34m'_'\u001b[0m\u001b[0;34m:\u001b[0m\u001b[0;34m\u001b[0m\u001b[0;34m\u001b[0m\u001b[0m\n\u001b[1;32m    433\u001b[0m             \u001b[0;32mraise\u001b[0m \u001b[0mAttributeError\u001b[0m\u001b[0;34m(\u001b[0m\u001b[0mname\u001b[0m\u001b[0;34m)\u001b[0m\u001b[0;34m\u001b[0m\u001b[0;34m\u001b[0m\u001b[0m\n\u001b[0;32m--> 434\u001b[0;31m         \u001b[0mdll\u001b[0m \u001b[0;34m=\u001b[0m \u001b[0mself\u001b[0m\u001b[0;34m.\u001b[0m\u001b[0m_dlltype\u001b[0m\u001b[0;34m(\u001b[0m\u001b[0mname\u001b[0m\u001b[0;34m)\u001b[0m\u001b[0;34m\u001b[0m\u001b[0;34m\u001b[0m\u001b[0m\n\u001b[0m\u001b[1;32m    435\u001b[0m         \u001b[0msetattr\u001b[0m\u001b[0;34m(\u001b[0m\u001b[0mself\u001b[0m\u001b[0;34m,\u001b[0m \u001b[0mname\u001b[0m\u001b[0;34m,\u001b[0m \u001b[0mdll\u001b[0m\u001b[0;34m)\u001b[0m\u001b[0;34m\u001b[0m\u001b[0;34m\u001b[0m\u001b[0m\n\u001b[1;32m    436\u001b[0m         \u001b[0;32mreturn\u001b[0m \u001b[0mdll\u001b[0m\u001b[0;34m\u001b[0m\u001b[0;34m\u001b[0m\u001b[0m\n",
            "\u001b[0;32m/usr/lib/python3.7/ctypes/__init__.py\u001b[0m in \u001b[0;36m__init__\u001b[0;34m(self, name, mode, handle, use_errno, use_last_error)\u001b[0m\n\u001b[1;32m    362\u001b[0m \u001b[0;34m\u001b[0m\u001b[0m\n\u001b[1;32m    363\u001b[0m         \u001b[0;32mif\u001b[0m \u001b[0mhandle\u001b[0m \u001b[0;32mis\u001b[0m \u001b[0;32mNone\u001b[0m\u001b[0;34m:\u001b[0m\u001b[0;34m\u001b[0m\u001b[0;34m\u001b[0m\u001b[0m\n\u001b[0;32m--> 364\u001b[0;31m             \u001b[0mself\u001b[0m\u001b[0;34m.\u001b[0m\u001b[0m_handle\u001b[0m \u001b[0;34m=\u001b[0m \u001b[0m_dlopen\u001b[0m\u001b[0;34m(\u001b[0m\u001b[0mself\u001b[0m\u001b[0;34m.\u001b[0m\u001b[0m_name\u001b[0m\u001b[0;34m,\u001b[0m \u001b[0mmode\u001b[0m\u001b[0;34m)\u001b[0m\u001b[0;34m\u001b[0m\u001b[0;34m\u001b[0m\u001b[0m\n\u001b[0m\u001b[1;32m    365\u001b[0m         \u001b[0;32melse\u001b[0m\u001b[0;34m:\u001b[0m\u001b[0;34m\u001b[0m\u001b[0;34m\u001b[0m\u001b[0m\n\u001b[1;32m    366\u001b[0m             \u001b[0mself\u001b[0m\u001b[0;34m.\u001b[0m\u001b[0m_handle\u001b[0m \u001b[0;34m=\u001b[0m \u001b[0mhandle\u001b[0m\u001b[0;34m\u001b[0m\u001b[0;34m\u001b[0m\u001b[0m\n",
            "\u001b[0;31mOSError\u001b[0m: libfaiss.so: cannot open shared object file: No such file or directory"
          ]
        }
      ]
    },
    {
      "cell_type": "code",
      "source": [
        "import pickle\n",
        "import numpy as np"
      ],
      "metadata": {
        "id": "jX5MS5DOmTrV"
      },
      "execution_count": null,
      "outputs": []
    },
    {
      "cell_type": "code",
      "source": [
        "f = open('embeds1.pickle', 'rb')\n",
        "data = pickle.load(f)"
      ],
      "metadata": {
        "id": "-CJ-SzmjiJ-t"
      },
      "execution_count": null,
      "outputs": []
    },
    {
      "cell_type": "markdown",
      "source": [
        "# sklearn-som"
      ],
      "metadata": {
        "id": "ib1Sf69zjV4E"
      }
    },
    {
      "cell_type": "code",
      "source": [
        "!pip install sklearn-som"
      ],
      "metadata": {
        "colab": {
          "base_uri": "https://localhost:8080/"
        },
        "id": "BMZ6k3sciQlU",
        "outputId": "ad759c06-3b3f-4d34-b318-48ad1c5fd9bf"
      },
      "execution_count": null,
      "outputs": [
        {
          "output_type": "stream",
          "name": "stdout",
          "text": [
            "Collecting sklearn-som\n",
            "  Downloading sklearn_som-1.1.0-py3-none-any.whl (6.7 kB)\n",
            "Requirement already satisfied: numpy in /usr/local/lib/python3.7/dist-packages (from sklearn-som) (1.19.5)\n",
            "Installing collected packages: sklearn-som\n",
            "Successfully installed sklearn-som-1.1.0\n"
          ]
        }
      ]
    },
    {
      "cell_type": "code",
      "source": [
        "from sklearn_som.som import SOM"
      ],
      "metadata": {
        "id": "twS8beApiWWm"
      },
      "execution_count": null,
      "outputs": []
    },
    {
      "cell_type": "code",
      "source": [
        "m = SOM(m=3, n=3, dim=300)"
      ],
      "metadata": {
        "id": "CUFGIVTHiZWZ"
      },
      "execution_count": null,
      "outputs": []
    },
    {
      "cell_type": "code",
      "source": [
        "d = np.array(data)"
      ],
      "metadata": {
        "id": "43SUXs6aixAz"
      },
      "execution_count": null,
      "outputs": []
    },
    {
      "cell_type": "code",
      "source": [
        "d.shape"
      ],
      "metadata": {
        "colab": {
          "base_uri": "https://localhost:8080/"
        },
        "id": "ssAWMZgqizkR",
        "outputId": "71bab41f-80bf-470c-f495-60e8bb221808"
      },
      "execution_count": null,
      "outputs": [
        {
          "output_type": "execute_result",
          "data": {
            "text/plain": [
              "(841, 300)"
            ]
          },
          "metadata": {},
          "execution_count": 5
        }
      ]
    },
    {
      "cell_type": "code",
      "source": [
        "m.fit(d)"
      ],
      "metadata": {
        "id": "huw7k2FEig7t"
      },
      "execution_count": null,
      "outputs": []
    },
    {
      "cell_type": "code",
      "source": [
        "r = m.transform(d)"
      ],
      "metadata": {
        "id": "xbrOu9hckOyA"
      },
      "execution_count": null,
      "outputs": []
    },
    {
      "cell_type": "code",
      "source": [
        "r"
      ],
      "metadata": {
        "colab": {
          "base_uri": "https://localhost:8080/"
        },
        "id": "4OsrzCmHkVpi",
        "outputId": "0c8f904c-efb7-4876-a3c3-5a5c66c5310d"
      },
      "execution_count": null,
      "outputs": [
        {
          "output_type": "execute_result",
          "data": {
            "text/plain": [
              "array([[6.07530725, 6.07427928, 6.44068721, ..., 6.08602054, 5.93577453,\n",
              "        6.26947068],\n",
              "       [6.84114598, 6.93809332, 7.37937342, ..., 6.83575307, 6.7118834 ,\n",
              "        6.97231219],\n",
              "       [5.92305719, 5.96132383, 6.13077932, ..., 5.90478108, 5.68187931,\n",
              "        5.8430989 ],\n",
              "       ...,\n",
              "       [6.3130129 , 5.87272626, 5.95035423, ..., 6.47141439, 6.54527323,\n",
              "        7.175122  ],\n",
              "       [0.37032437, 1.70696504, 3.04420142, ..., 0.12718013, 0.80928657,\n",
              "        3.03525919],\n",
              "       [0.37032437, 1.70696504, 3.04420142, ..., 0.12718013, 0.80928657,\n",
              "        3.03525919]])"
            ]
          },
          "metadata": {},
          "execution_count": 40
        }
      ]
    },
    {
      "cell_type": "markdown",
      "source": [
        "# susi"
      ],
      "metadata": {
        "id": "nvKKL0m2jZiI"
      }
    },
    {
      "cell_type": "code",
      "source": [
        "!pip install susi"
      ],
      "metadata": {
        "id": "t7lNDE03dZEt"
      },
      "execution_count": null,
      "outputs": []
    },
    {
      "cell_type": "code",
      "source": [
        "import susi\n",
        "from susi.SOMPlots import plot_nbh_dist_weight_matrix, plot_umatrix"
      ],
      "metadata": {
        "id": "Kq6gZWm8dl1W"
      },
      "execution_count": null,
      "outputs": []
    },
    {
      "cell_type": "code",
      "source": [
        "som = susi.SOMClustering(\n",
        "    n_rows=200,\n",
        "    n_columns=200\n",
        ")\n",
        "som.fit(d)\n",
        "print(\"SOM fitted!\")"
      ],
      "metadata": {
        "id": "UZXiYFc6dvxD"
      },
      "execution_count": null,
      "outputs": []
    },
    {
      "cell_type": "code",
      "source": [
        "import matplotlib.pyplot as plt"
      ],
      "metadata": {
        "id": "tp3qtCm1d5YK"
      },
      "execution_count": null,
      "outputs": []
    },
    {
      "cell_type": "code",
      "source": [
        "clusters = som.get_clusters(d)\n",
        "plt.scatter(x=[c[1] for c in clusters], y=[c[0] for c in clusters], alpha=0.2)\n",
        "plt.gca().invert_yaxis()\n",
        "plt.show()"
      ],
      "metadata": {
        "colab": {
          "base_uri": "https://localhost:8080/",
          "height": 265
        },
        "id": "-YueD82ud7_a",
        "outputId": "3c4cbb02-2f19-45f5-bcdb-b3f94631bee9"
      },
      "execution_count": null,
      "outputs": [
        {
          "output_type": "display_data",
          "data": {
            "image/png": "[encoded data removed]",
            "text/plain": [
              "<Figure size 432x288 with 1 Axes>"
            ]
          },
          "metadata": {
            "needs_background": "light"
          }
        }
      ]
    },
    {
      "cell_type": "code",
      "source": [
        "clusters"
      ],
      "metadata": {
        "id": "JW8HNHo8erxh"
      },
      "execution_count": null,
      "outputs": []
    },
    {
      "cell_type": "markdown",
      "source": [
        "# minisom"
      ],
      "metadata": {
        "id": "k9pOVhhKjcGZ"
      }
    },
    {
      "cell_type": "code",
      "source": [
        "!pip install minisom"
      ],
      "metadata": {
        "id": "0kwY0jk2jUNv",
        "colab": {
          "base_uri": "https://localhost:8080/"
        },
        "outputId": "95e3a5bb-33a0-434a-f2cd-e92a390ede3b"
      },
      "execution_count": null,
      "outputs": [
        {
          "output_type": "stream",
          "name": "stdout",
          "text": [
            "Collecting minisom\n",
            "  Downloading MiniSom-2.2.9.tar.gz (8.1 kB)\n",
            "Building wheels for collected packages: minisom\n",
            "  Building wheel for minisom (setup.py) ... \u001b[?25l\u001b[?25hdone\n",
            "  Created wheel for minisom: filename=MiniSom-2.2.9-py3-none-any.whl size=8595 sha256=9745e3ff48e6cae734a81c30d6447a93da3959e10d880e4812f89c8e68daa6e6\n",
            "  Stored in directory: /root/.cache/pip/wheels/3d/a1/10/f50b6f4865652eac239a2700de411c3078c27e1318320e494c\n",
            "Successfully built minisom\n",
            "Installing collected packages: minisom\n",
            "Successfully installed minisom-2.2.9\n"
          ]
        }
      ]
    },
    {
      "cell_type": "code",
      "source": [
        "from minisom import MiniSom\n",
        "import numpy as np\n",
        "import pandas as pd\n",
        "\n",
        "# Initialization and training\n",
        "som_shape = (15, 15)\n",
        "som = MiniSom(som_shape[0], som_shape[1], d.shape[1], sigma=.5, learning_rate=.5,\n",
        "              neighborhood_function='gaussian', random_seed=10)\n",
        "\n",
        "som.train(d, 1000, verbose=True)"
      ],
      "metadata": {
        "colab": {
          "base_uri": "https://localhost:8080/"
        },
        "id": "AL-qC3_Ejnnt",
        "outputId": "c8cd6cde-dd2a-4d61-aabf-3ee64ec4e6bc"
      },
      "execution_count": null,
      "outputs": [
        {
          "output_type": "stream",
          "name": "stdout",
          "text": [
            " [ 1000 / 1000 ] 100% - 0:00:00 left \n",
            " quantization error: 1.162719756847029\n"
          ]
        }
      ]
    },
    {
      "cell_type": "code",
      "source": [
        "# each neuron represents a cluster\n",
        "winner_coordinates = np.array([som.winner(x) for x in d]).T\n",
        "# with np.ravel_multi_index we convert the bidimensional\n",
        "# coordinates to a monodimensional index\n",
        "cluster_index = np.ravel_multi_index(winner_coordinates, som_shape)"
      ],
      "metadata": {
        "id": "JtwCie-Qjpwo"
      },
      "execution_count": null,
      "outputs": []
    },
    {
      "cell_type": "code",
      "source": [
        "import matplotlib.pyplot as plt\n",
        "%matplotlib inline\n",
        "\n",
        "# plotting the clusters using the first 2 dimentions of the data\n",
        "for c in np.unique(cluster_index):\n",
        "    plt.scatter(d[cluster_index == c, 0],\n",
        "                d[cluster_index == c, 1], label='cluster='+str(c), alpha=.7)\n",
        "\n",
        "# plotting centroids\n",
        "for centroid in som.get_weights():\n",
        "    plt.scatter(centroid[:, 0], centroid[:, 1], marker='x', \n",
        "                s=80, linewidths=35, color='k', label='centroid')\n",
        "plt.legend();"
      ],
      "metadata": {
        "colab": {
          "base_uri": "https://localhost:8080/",
          "height": 265
        },
        "id": "ILlK1750jsvK",
        "outputId": "4ede7efa-ef4f-4306-cd1c-e2f39626a94e"
      },
      "execution_count": null,
      "outputs": [
        {
          "output_type": "display_data",
          "data": {
            "image/png": "[encoded data removed]",
            "text/plain": [
              "<Figure size 432x288 with 1 Axes>"
            ]
          },
          "metadata": {
            "needs_background": "light"
          }
        }
      ]
    },
    {
      "cell_type": "markdown",
      "source": [
        "# PCA and K-Means"
      ],
      "metadata": {
        "id": "yBElrwLkpa6Z"
      }
    },
    {
      "cell_type": "code",
      "source": [
        "from sklearn.decomposition import PCA"
      ],
      "metadata": {
        "id": "mV3QMur4qhMX"
      },
      "execution_count": null,
      "outputs": []
    },
    {
      "cell_type": "code",
      "source": [
        "pca = PCA(n_components=2)"
      ],
      "metadata": {
        "id": "Qb5R6Qslqh1Y"
      },
      "execution_count": null,
      "outputs": []
    },
    {
      "cell_type": "code",
      "source": [
        "reduced_d = pca.fit_transform(d)"
      ],
      "metadata": {
        "id": "bo9uSn3lqlgM"
      },
      "execution_count": null,
      "outputs": []
    },
    {
      "cell_type": "code",
      "source": [
        "from sklearn.cluster import KMeans"
      ],
      "metadata": {
        "id": "FviJr9IFsLF0"
      },
      "execution_count": null,
      "outputs": []
    },
    {
      "cell_type": "code",
      "source": [
        "# calculate distortion for a range of number of cluster\n",
        "distortions = []\n",
        "for i in range(1, 11):\n",
        "    km = KMeans(\n",
        "        n_clusters=i, init='random',\n",
        "        n_init=10, max_iter=300,\n",
        "        tol=1e-04, random_state=0\n",
        "    )\n",
        "    km.fit(reduced_d)\n",
        "    distortions.append(km.inertia_)\n",
        "\n",
        "# plot\n",
        "plt.plot(range(1, 11), distortions, marker='o')\n",
        "plt.xlabel('Number of clusters')\n",
        "plt.ylabel('Distortion')\n",
        "plt.show()"
      ],
      "metadata": {
        "colab": {
          "base_uri": "https://localhost:8080/",
          "height": 279
        },
        "id": "xn2HvkhssDe7",
        "outputId": "9ad077c6-6afa-4054-efcf-2d95b71c4842"
      },
      "execution_count": null,
      "outputs": [
        {
          "output_type": "display_data",
          "data": {
            "image/png": "[encoded data removed]",
            "text/plain": [
              "<Figure size 432x288 with 1 Axes>"
            ]
          },
          "metadata": {
            "needs_background": "light"
          }
        }
      ]
    },
    {
      "cell_type": "code",
      "source": [
        "km = KMeans(\n",
        "    n_clusters=3, init='random',\n",
        "    n_init=10, max_iter=300, \n",
        "    tol=1e-04, random_state=0\n",
        ")\n",
        "y_km = km.fit_predict(reduced_d)"
      ],
      "metadata": {
        "id": "gWoVvEiysXw1"
      },
      "execution_count": null,
      "outputs": []
    },
    {
      "cell_type": "code",
      "source": [
        "# plot the 3 clusters\n",
        "plt.scatter(\n",
        "    reduced_d[y_km == 0, 0], reduced_d[y_km == 0, 1],\n",
        "    s=50, c='lightgreen',\n",
        "    marker='s', edgecolor='black',\n",
        "    label='cluster 1'\n",
        ")\n",
        "\n",
        "plt.scatter(\n",
        "    reduced_d[y_km == 1, 0], reduced_d[y_km == 1, 1],\n",
        "    s=50, c='orange',\n",
        "    marker='o', edgecolor='black',\n",
        "    label='cluster 2'\n",
        ")\n",
        "\n",
        "plt.scatter(\n",
        "    reduced_d[y_km == 2, 0], reduced_d[y_km == 2, 1],\n",
        "    s=50, c='lightblue',\n",
        "    marker='v', edgecolor='black',\n",
        "    label='cluster 3'\n",
        ")\n",
        "\n",
        "# plot the centroids\n",
        "plt.scatter(\n",
        "    km.cluster_centers_[:, 0], km.cluster_centers_[:, 1],\n",
        "    s=250, marker='*',\n",
        "    c='red', edgecolor='black',\n",
        "    label='centroids'\n",
        ")\n",
        "plt.legend(scatterpoints=1)\n",
        "plt.grid()\n",
        "plt.show()"
      ],
      "metadata": {
        "colab": {
          "base_uri": "https://localhost:8080/",
          "height": 265
        },
        "id": "n2GxotFhsdjM",
        "outputId": "1b9b45ce-43b4-4fb7-b561-e10e7e6f7b79"
      },
      "execution_count": null,
      "outputs": [
        {
          "output_type": "display_data",
          "data": {
            "image/png": "[encoded data removed]",
            "text/plain": [
              "<Figure size 432x288 with 1 Axes>"
            ]
          },
          "metadata": {
            "needs_background": "light"
          }
        }
      ]
    }
  ]
}